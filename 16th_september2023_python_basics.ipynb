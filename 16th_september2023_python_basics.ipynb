{
 "cells": [
  {
   "cell_type": "code",
   "execution_count": 1,
   "id": "e42066d2",
   "metadata": {},
   "outputs": [
    {
     "name": "stdout",
     "output_type": "stream",
     "text": [
      "Before swap  values of x & y are: 55 44\n",
      "After swap  values of x & y are: 44 55\n"
     ]
    }
   ],
   "source": [
    "#Declare two variables, `x` and `y`, and assign them integer values.Swap the values of these variables without using any temporary variable.\n",
    "x,y=55,44\n",
    "print(\"Before swap  values of x & y are:\",x,y)\n",
    "x,y=y,x\n",
    "print(\"After swap  values of x & y are:\",x,y)\n"
   ]
  },
  {
   "cell_type": "code",
   "execution_count": 2,
   "id": "e4897193",
   "metadata": {},
   "outputs": [
    {
     "name": "stdout",
     "output_type": "stream",
     "text": [
      "enter the length of the rectenggle:15\n",
      "enter the width of the rectenggle:10\n",
      "The area of the rectengle is: 150.0\n"
     ]
    }
   ],
   "source": [
    "#Create a program that calculates the area of a rectangle. Take the length and\n",
    "#width as inputs from the user and store them in variables. Calculate and\n",
    "#display the area.'''\n",
    "x=float(input(\"enter the length of the rectenggle:\"))\n",
    "y=float(input(\"enter the width of the rectenggle:\"))\n",
    "area=x*y\n",
    "print(\"The area of the rectengle is:\",area)"
   ]
  },
  {
   "cell_type": "code",
   "execution_count": 3,
   "id": "0ca49e5c",
   "metadata": {},
   "outputs": [
    {
     "name": "stdout",
     "output_type": "stream",
     "text": [
      "Enter the temperature in celsius:37\n",
      "The temperature in Fahrenhite: 98.6\n"
     ]
    }
   ],
   "source": [
    "#Write a Python program that converts temperatures from Celsius to Fahrenheit. \n",
    "#Take the temperature in Celsius as input, store it in a variable,convert it to Fahrenheit, and display the result.\n",
    "c=float(input(\"Enter the temperature in celsius:\"))\n",
    "f=c*9/5+32\n",
    "print(\"The temperature in Fahrenhite:\",f)\n"
   ]
  },
  {
   "cell_type": "code",
   "execution_count": 4,
   "id": "cf905a5f",
   "metadata": {},
   "outputs": [
    {
     "name": "stdout",
     "output_type": "stream",
     "text": [
      "Enter the string:sammilani\n",
      "the length of the string is: 9\n"
     ]
    }
   ],
   "source": [
    "#Write a Python program that takes a string as input and prints the length of the string.\n",
    "str=input(\"Enter the string:\")\n",
    "ln=len(str)\n",
    "print(\"the length of the string is:\",ln)"
   ]
  },
  {
   "cell_type": "code",
   "execution_count": 8,
   "id": "0cba7458",
   "metadata": {},
   "outputs": [
    {
     "name": "stdout",
     "output_type": "stream",
     "text": [
      "Enter the string:akash barman\n",
      "The number of vowel present in the string is: 4\n"
     ]
    }
   ],
   "source": [
    "#Create a program that takes a sentence from the user and counts the number of vowels (a, e, i, o, u) in the string.\n",
    "str=input(\"Enter the string:\")\n",
    "vowel=set(\"aeiouAEIOU\")\n",
    "count=0\n",
    "for i in str:\n",
    "    if i in vowel:\n",
    "        count+=1\n",
    "print(\"The number of vowel present in the string is:\",count)"
   ]
  },
  {
   "cell_type": "code",
   "execution_count": 10,
   "id": "8d3c5c3d",
   "metadata": {},
   "outputs": [
    {
     "name": "stdout",
     "output_type": "stream",
     "text": [
      "Enter the string:monalisha\n",
      "Thr reverse order of thr string is: ahsilanom\n"
     ]
    }
   ],
   "source": [
    "#Given a string, reverse the order of characters using string slicing and print the reversed string.\n",
    "str=input(\"Enter the string:\")\n",
    "rev=str[::-1]\n",
    "print(\"Thr reverse order of thr string is:\",rev)"
   ]
  },
  {
   "cell_type": "code",
   "execution_count": 15,
   "id": "e30be612",
   "metadata": {},
   "outputs": [
    {
     "name": "stdout",
     "output_type": "stream",
     "text": [
      "Enter the string:madam\n",
      "madam  is palindrom!\n"
     ]
    }
   ],
   "source": [
    "#Write a program that takes a string as input and checks if it is a palindrome.\n",
    "str=input(\"Enter the string:\")\n",
    "rev=str[::-1]\n",
    "if str == \"\":\n",
    "    print(\"string is empty!\")\n",
    "elif str==rev:\n",
    "    print(str,\" is palindrom!\")\n",
    "else:\n",
    "    print(str,\" is not palindrome!\")"
   ]
  },
  {
   "cell_type": "code",
   "execution_count": 16,
   "id": "ac10d120",
   "metadata": {},
   "outputs": [
    {
     "name": "stdout",
     "output_type": "stream",
     "text": [
      "Enter the string:hello i am akash\n",
      "modified string is: helloiamakash\n"
     ]
    }
   ],
   "source": [
    "#Create a program that takes a string as input and removes all the spaces from it. Print the modified string without spaces.\n",
    "str=input(\"Enter the string:\")\n",
    "print(\"modified string is:\",str.replace(\" \",\"\"))"
   ]
  },
  {
   "cell_type": "code",
   "execution_count": null,
   "id": "93070b08",
   "metadata": {},
   "outputs": [],
   "source": []
  }
 ],
 "metadata": {
  "kernelspec": {
   "display_name": "Python 3 (ipykernel)",
   "language": "python",
   "name": "python3"
  },
  "language_info": {
   "codemirror_mode": {
    "name": "ipython",
    "version": 3
   },
   "file_extension": ".py",
   "mimetype": "text/x-python",
   "name": "python",
   "nbconvert_exporter": "python",
   "pygments_lexer": "ipython3",
   "version": "3.11.4"
  }
 },
 "nbformat": 4,
 "nbformat_minor": 5
}
